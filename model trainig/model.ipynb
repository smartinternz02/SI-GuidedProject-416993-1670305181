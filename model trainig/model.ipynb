{
 "cells": [
  {
   "cell_type": "code",
   "execution_count": 1,
   "id": "62acbb7f",
   "metadata": {},
   "outputs": [
    {
     "name": "stdout",
     "output_type": "stream",
     "text": [
      "Requirement already satisfied: keras==2.2.4 in c:\\users\\prathyusha\\appdata\\roaming\\python\\python39\\site-packages (2.2.4)\n",
      "Requirement already satisfied: six>=1.9.0 in c:\\users\\prathyusha\\appdata\\roaming\\python\\python39\\site-packages (from keras==2.2.4) (1.15.0)\n",
      "Requirement already satisfied: numpy>=1.9.1 in c:\\users\\prathyusha\\appdata\\roaming\\python\\python39\\site-packages (from keras==2.2.4) (1.19.5)\n",
      "Requirement already satisfied: scipy>=0.14 in c:\\users\\prathyusha\\anaconda3\\lib\\site-packages (from keras==2.2.4) (1.7.3)\n",
      "Requirement already satisfied: keras-preprocessing>=1.0.5 in c:\\users\\prathyusha\\appdata\\roaming\\python\\python39\\site-packages (from keras==2.2.4) (1.1.2)\n",
      "Requirement already satisfied: keras-applications>=1.0.6 in c:\\users\\prathyusha\\appdata\\roaming\\python\\python39\\site-packages (from keras==2.2.4) (1.0.8)\n",
      "Requirement already satisfied: pyyaml in c:\\users\\prathyusha\\anaconda3\\lib\\site-packages (from keras==2.2.4) (6.0)\n",
      "Requirement already satisfied: h5py in c:\\users\\prathyusha\\appdata\\roaming\\python\\python39\\site-packages (from keras==2.2.4) (3.1.0)\n",
      "Requirement already satisfied: tensorflow==2.5.0 in c:\\users\\prathyusha\\appdata\\roaming\\python\\python39\\site-packages (2.5.0)\n",
      "Requirement already satisfied: tensorboard~=2.5 in c:\\users\\prathyusha\\appdata\\roaming\\python\\python39\\site-packages (from tensorflow==2.5.0) (2.11.0)\n",
      "Requirement already satisfied: keras-preprocessing~=1.1.2 in c:\\users\\prathyusha\\appdata\\roaming\\python\\python39\\site-packages (from tensorflow==2.5.0) (1.1.2)\n",
      "Requirement already satisfied: protobuf>=3.9.2 in c:\\users\\prathyusha\\anaconda3\\lib\\site-packages (from tensorflow==2.5.0) (3.19.1)\n",
      "Requirement already satisfied: numpy~=1.19.2 in c:\\users\\prathyusha\\appdata\\roaming\\python\\python39\\site-packages (from tensorflow==2.5.0) (1.19.5)\n",
      "Requirement already satisfied: grpcio~=1.34.0 in c:\\users\\prathyusha\\appdata\\roaming\\python\\python39\\site-packages (from tensorflow==2.5.0) (1.34.1)\n",
      "Requirement already satisfied: six~=1.15.0 in c:\\users\\prathyusha\\appdata\\roaming\\python\\python39\\site-packages (from tensorflow==2.5.0) (1.15.0)\n",
      "Requirement already satisfied: tensorflow-estimator<2.6.0,>=2.5.0rc0 in c:\\users\\prathyusha\\appdata\\roaming\\python\\python39\\site-packages (from tensorflow==2.5.0) (2.5.0)\n",
      "Requirement already satisfied: google-pasta~=0.2 in c:\\users\\prathyusha\\appdata\\roaming\\python\\python39\\site-packages (from tensorflow==2.5.0) (0.2.0)\n",
      "Requirement already satisfied: termcolor~=1.1.0 in c:\\users\\prathyusha\\appdata\\roaming\\python\\python39\\site-packages (from tensorflow==2.5.0) (1.1.0)\n",
      "Requirement already satisfied: absl-py~=0.10 in c:\\users\\prathyusha\\appdata\\roaming\\python\\python39\\site-packages (from tensorflow==2.5.0) (0.15.0)\n",
      "Requirement already satisfied: gast==0.4.0 in c:\\users\\prathyusha\\appdata\\roaming\\python\\python39\\site-packages (from tensorflow==2.5.0) (0.4.0)\n",
      "Requirement already satisfied: keras-nightly~=2.5.0.dev in c:\\users\\prathyusha\\appdata\\roaming\\python\\python39\\site-packages (from tensorflow==2.5.0) (2.5.0.dev2021032900)\n",
      "Requirement already satisfied: wheel~=0.35 in c:\\users\\prathyusha\\anaconda3\\lib\\site-packages (from tensorflow==2.5.0) (0.37.1)\n",
      "Requirement already satisfied: typing-extensions~=3.7.4 in c:\\users\\prathyusha\\appdata\\roaming\\python\\python39\\site-packages (from tensorflow==2.5.0) (3.7.4.3)\n",
      "Requirement already satisfied: flatbuffers~=1.12.0 in c:\\users\\prathyusha\\appdata\\roaming\\python\\python39\\site-packages (from tensorflow==2.5.0) (1.12)\n",
      "Requirement already satisfied: astunparse~=1.6.3 in c:\\users\\prathyusha\\appdata\\roaming\\python\\python39\\site-packages (from tensorflow==2.5.0) (1.6.3)\n",
      "Requirement already satisfied: h5py~=3.1.0 in c:\\users\\prathyusha\\appdata\\roaming\\python\\python39\\site-packages (from tensorflow==2.5.0) (3.1.0)\n",
      "Requirement already satisfied: opt-einsum~=3.3.0 in c:\\users\\prathyusha\\appdata\\roaming\\python\\python39\\site-packages (from tensorflow==2.5.0) (3.3.0)\n",
      "Requirement already satisfied: wrapt~=1.12.1 in c:\\users\\prathyusha\\anaconda3\\lib\\site-packages (from tensorflow==2.5.0) (1.12.1)\n",
      "Requirement already satisfied: markdown>=2.6.8 in c:\\users\\prathyusha\\anaconda3\\lib\\site-packages (from tensorboard~=2.5->tensorflow==2.5.0) (3.3.4)\n",
      "Requirement already satisfied: setuptools>=41.0.0 in c:\\users\\prathyusha\\anaconda3\\lib\\site-packages (from tensorboard~=2.5->tensorflow==2.5.0) (61.2.0)\n",
      "Requirement already satisfied: werkzeug>=1.0.1 in c:\\users\\prathyusha\\anaconda3\\lib\\site-packages (from tensorboard~=2.5->tensorflow==2.5.0) (2.0.3)\n",
      "Requirement already satisfied: tensorboard-plugin-wit>=1.6.0 in c:\\users\\prathyusha\\appdata\\roaming\\python\\python39\\site-packages (from tensorboard~=2.5->tensorflow==2.5.0) (1.8.1)\n",
      "Requirement already satisfied: requests<3,>=2.21.0 in c:\\users\\prathyusha\\anaconda3\\lib\\site-packages (from tensorboard~=2.5->tensorflow==2.5.0) (2.27.1)\n",
      "Requirement already satisfied: google-auth<3,>=1.6.3 in c:\\users\\prathyusha\\anaconda3\\lib\\site-packages (from tensorboard~=2.5->tensorflow==2.5.0) (1.33.0)\n",
      "Requirement already satisfied: tensorboard-data-server<0.7.0,>=0.6.0 in c:\\users\\prathyusha\\appdata\\roaming\\python\\python39\\site-packages (from tensorboard~=2.5->tensorflow==2.5.0) (0.6.1)\n",
      "Requirement already satisfied: google-auth-oauthlib<0.5,>=0.4.1 in c:\\users\\prathyusha\\appdata\\roaming\\python\\python39\\site-packages (from tensorboard~=2.5->tensorflow==2.5.0) (0.4.6)\n",
      "Requirement already satisfied: pyasn1-modules>=0.2.1 in c:\\users\\prathyusha\\anaconda3\\lib\\site-packages (from google-auth<3,>=1.6.3->tensorboard~=2.5->tensorflow==2.5.0) (0.2.8)\n",
      "Requirement already satisfied: cachetools<5.0,>=2.0.0 in c:\\users\\prathyusha\\anaconda3\\lib\\site-packages (from google-auth<3,>=1.6.3->tensorboard~=2.5->tensorflow==2.5.0) (4.2.2)\n",
      "Requirement already satisfied: rsa<5,>=3.1.4 in c:\\users\\prathyusha\\anaconda3\\lib\\site-packages (from google-auth<3,>=1.6.3->tensorboard~=2.5->tensorflow==2.5.0) (4.7.2)\n",
      "Requirement already satisfied: requests-oauthlib>=0.7.0 in c:\\users\\prathyusha\\appdata\\roaming\\python\\python39\\site-packages (from google-auth-oauthlib<0.5,>=0.4.1->tensorboard~=2.5->tensorflow==2.5.0) (1.3.1)\n",
      "Requirement already satisfied: pyasn1<0.5.0,>=0.4.6 in c:\\users\\prathyusha\\anaconda3\\lib\\site-packages (from pyasn1-modules>=0.2.1->google-auth<3,>=1.6.3->tensorboard~=2.5->tensorflow==2.5.0) (0.4.8)\n",
      "Requirement already satisfied: idna<4,>=2.5 in c:\\users\\prathyusha\\anaconda3\\lib\\site-packages (from requests<3,>=2.21.0->tensorboard~=2.5->tensorflow==2.5.0) (3.3)\n",
      "Requirement already satisfied: charset-normalizer~=2.0.0 in c:\\users\\prathyusha\\anaconda3\\lib\\site-packages (from requests<3,>=2.21.0->tensorboard~=2.5->tensorflow==2.5.0) (2.0.4)\n",
      "Requirement already satisfied: certifi>=2017.4.17 in c:\\users\\prathyusha\\anaconda3\\lib\\site-packages (from requests<3,>=2.21.0->tensorboard~=2.5->tensorflow==2.5.0) (2021.10.8)\n",
      "Requirement already satisfied: urllib3<1.27,>=1.21.1 in c:\\users\\prathyusha\\anaconda3\\lib\\site-packages (from requests<3,>=2.21.0->tensorboard~=2.5->tensorflow==2.5.0) (1.26.9)\n",
      "Requirement already satisfied: oauthlib>=3.0.0 in c:\\users\\prathyusha\\appdata\\roaming\\python\\python39\\site-packages (from requests-oauthlib>=0.7.0->google-auth-oauthlib<0.5,>=0.4.1->tensorboard~=2.5->tensorflow==2.5.0) (3.2.2)\n"
     ]
    }
   ],
   "source": [
    "!pip install keras==2.2.4\n",
    "!pip install tensorflow==2.5.0\n",
    "import pandas as pd\n",
    "import numpy as np\n",
    "from tensorflow.keras.models import Sequential\n",
    "from tensorflow.keras.layers import Dense, Convolution2D, MaxPooling2D, Flatten, Dropout\n",
    "from tensorflow.keras.preprocessing .image import ImageDataGenerator"
   ]
  },
  {
   "cell_type": "code",
   "execution_count": 2,
   "id": "e5e2d7bb",
   "metadata": {},
   "outputs": [],
   "source": [
    "train_datagen = ImageDataGenerator(rescale = 1./255, shear_range = 0.2, zoom_range = 0.2, horizontal_flip = True)\n",
    "test_datagen = ImageDataGenerator(rescale = 1./255)"
   ]
  },
  {
   "cell_type": "code",
   "execution_count": 3,
   "id": "1b0bd88e",
   "metadata": {},
   "outputs": [
    {
     "name": "stdout",
     "output_type": "stream",
     "text": [
      "Found 10941 images belonging to 3 classes.\n",
      "Found 300 images belonging to 3 classes.\n"
     ]
    }
   ],
   "source": [
    "x_train = train_datagen.flow_from_directory(r\"D:\\Dataset\\train\",target_size = (64,64),batch_size = 32,class_mode = \"categorical\")\n",
    "x_test = test_datagen.flow_from_directory(r\"D:\\Dataset\\test\",target_size = (64,64),batch_size = 32,class_mode = \"categorical\")"
   ]
  },
  {
   "cell_type": "code",
   "execution_count": 4,
   "id": "13d1a242",
   "metadata": {},
   "outputs": [
    {
     "data": {
      "text/plain": [
       "{'circle': 0, 'square': 1, 'triangle': 2}"
      ]
     },
     "execution_count": 4,
     "metadata": {},
     "output_type": "execute_result"
    }
   ],
   "source": [
    "x_train.class_indices"
   ]
  },
  {
   "cell_type": "code",
   "execution_count": 5,
   "id": "dbce9ac3",
   "metadata": {},
   "outputs": [],
   "source": [
    "model = Sequential()\n",
    "model.add(Convolution2D(32,(3,3),input_shape = (64,64,3)))\n",
    "model.add(MaxPooling2D((2,2)))\n",
    "model.add(Flatten())\n",
    "model.add(Dense(units = 128, kernel_initializer= \"random_uniform\",activation = \"relu\"))\n",
    "model.add(Dense(units = 3 , kernel_initializer= \"random_uniform\",activation = \"softmax\"))"
   ]
  },
  {
   "cell_type": "code",
   "execution_count": 6,
   "id": "6a3e5042",
   "metadata": {},
   "outputs": [],
   "source": [
    "model.compile(optimizer= \"adam\",loss = \"categorical_crossentropy\" , metrics =[\"accuracy\"])"
   ]
  },
  {
   "cell_type": "code",
   "execution_count": 7,
   "id": "dc74bcbc",
   "metadata": {},
   "outputs": [
    {
     "name": "stderr",
     "output_type": "stream",
     "text": [
      "C:\\Users\\Prathyusha\\AppData\\Roaming\\Python\\Python39\\site-packages\\tensorflow\\python\\keras\\engine\\training.py:1940: UserWarning: `Model.fit_generator` is deprecated and will be removed in a future version. Please use `Model.fit`, which supports generators.\n",
      "  warnings.warn('`Model.fit_generator` is deprecated and '\n"
     ]
    },
    {
     "name": "stdout",
     "output_type": "stream",
     "text": [
      "Epoch 1/100\n",
      "342/342 [==============================] - 102s 298ms/step - loss: 0.3185 - accuracy: 0.8789 - val_loss: 0.0854 - val_accuracy: 1.0000\n",
      "Epoch 2/100\n",
      "342/342 [==============================] - 21s 62ms/step - loss: 0.0303 - accuracy: 0.9938 - val_loss: 0.0083 - val_accuracy: 1.0000\n",
      "Epoch 3/100\n",
      "342/342 [==============================] - 23s 68ms/step - loss: 0.0064 - accuracy: 0.9989 - val_loss: 0.0020 - val_accuracy: 1.0000\n",
      "Epoch 4/100\n",
      "342/342 [==============================] - 24s 69ms/step - loss: 0.0051 - accuracy: 0.9988 - val_loss: 6.5055e-05 - val_accuracy: 1.0000\n",
      "Epoch 5/100\n",
      "342/342 [==============================] - 26s 74ms/step - loss: 0.0032 - accuracy: 0.9994 - val_loss: 6.0290e-05 - val_accuracy: 1.0000\n",
      "Epoch 6/100\n",
      "342/342 [==============================] - 26s 77ms/step - loss: 0.0023 - accuracy: 0.9994 - val_loss: 7.4823e-06 - val_accuracy: 1.0000\n",
      "Epoch 7/100\n",
      "342/342 [==============================] - 26s 75ms/step - loss: 0.0102 - accuracy: 0.9973 - val_loss: 2.2061e-04 - val_accuracy: 1.0000\n",
      "Epoch 8/100\n",
      "342/342 [==============================] - 54s 158ms/step - loss: 0.0073 - accuracy: 0.9978 - val_loss: 6.4631e-06 - val_accuracy: 1.0000\n",
      "Epoch 9/100\n",
      "342/342 [==============================] - 34s 100ms/step - loss: 5.4953e-04 - accuracy: 0.9997 - val_loss: 1.0415e-06 - val_accuracy: 1.0000\n",
      "Epoch 10/100\n",
      "342/342 [==============================] - 26s 76ms/step - loss: 3.6853e-04 - accuracy: 0.9998 - val_loss: 1.0661e-06 - val_accuracy: 1.0000\n",
      "Epoch 11/100\n",
      "342/342 [==============================] - 26s 76ms/step - loss: 1.6759e-04 - accuracy: 1.0000 - val_loss: 1.2366e-06 - val_accuracy: 1.0000\n",
      "Epoch 12/100\n",
      "342/342 [==============================] - 27s 78ms/step - loss: 4.0242e-05 - accuracy: 1.0000 - val_loss: 5.0227e-07 - val_accuracy: 1.0000\n",
      "Epoch 13/100\n",
      "342/342 [==============================] - 27s 79ms/step - loss: 0.0132 - accuracy: 0.9957 - val_loss: 2.4199e-07 - val_accuracy: 1.0000\n",
      "Epoch 14/100\n",
      "342/342 [==============================] - 28s 81ms/step - loss: 0.0011 - accuracy: 0.9996 - val_loss: 3.8751e-06 - val_accuracy: 1.0000\n",
      "Epoch 15/100\n",
      "342/342 [==============================] - 26s 77ms/step - loss: 6.1390e-05 - accuracy: 1.0000 - val_loss: 1.1309e-06 - val_accuracy: 1.0000\n",
      "Epoch 16/100\n",
      "342/342 [==============================] - 27s 80ms/step - loss: 3.2827e-05 - accuracy: 1.0000 - val_loss: 5.0465e-07 - val_accuracy: 1.0000\n",
      "Epoch 17/100\n",
      "342/342 [==============================] - 33s 95ms/step - loss: 2.6598e-04 - accuracy: 0.9999 - val_loss: 2.4796e-07 - val_accuracy: 1.0000\n",
      "Epoch 18/100\n",
      "342/342 [==============================] - 32s 93ms/step - loss: 4.1487e-05 - accuracy: 1.0000 - val_loss: 8.0268e-08 - val_accuracy: 1.0000\n",
      "Epoch 19/100\n",
      "342/342 [==============================] - 27s 78ms/step - loss: 0.0412 - accuracy: 0.9917 - val_loss: 6.0359e-07 - val_accuracy: 1.0000\n",
      "Epoch 20/100\n",
      "342/342 [==============================] - 28s 81ms/step - loss: 7.4540e-04 - accuracy: 0.9997 - val_loss: 7.0769e-07 - val_accuracy: 1.0000\n",
      "Epoch 21/100\n",
      "342/342 [==============================] - 26s 76ms/step - loss: 3.3177e-05 - accuracy: 1.0000 - val_loss: 1.0188e-06 - val_accuracy: 1.0000\n",
      "Epoch 22/100\n",
      "342/342 [==============================] - 27s 79ms/step - loss: 3.8146e-04 - accuracy: 0.9998 - val_loss: 1.1170e-06 - val_accuracy: 1.0000\n",
      "Epoch 23/100\n",
      "342/342 [==============================] - 26s 77ms/step - loss: 2.7001e-05 - accuracy: 1.0000 - val_loss: 5.7220e-07 - val_accuracy: 1.0000\n",
      "Epoch 24/100\n",
      "342/342 [==============================] - 28s 81ms/step - loss: 1.0914e-04 - accuracy: 1.0000 - val_loss: 2.2531e-07 - val_accuracy: 1.0000\n",
      "Epoch 25/100\n",
      "342/342 [==============================] - 27s 79ms/step - loss: 3.1281e-04 - accuracy: 0.9999 - val_loss: 3.4849e-06 - val_accuracy: 1.0000\n",
      "Epoch 26/100\n",
      "342/342 [==============================] - 27s 77ms/step - loss: 4.7590e-04 - accuracy: 0.9999 - val_loss: 7.9354e-07 - val_accuracy: 1.0000\n",
      "Epoch 27/100\n",
      "342/342 [==============================] - 29s 84ms/step - loss: 3.0284e-05 - accuracy: 1.0000 - val_loss: 4.2995e-07 - val_accuracy: 1.0000\n",
      "Epoch 28/100\n",
      "342/342 [==============================] - 28s 82ms/step - loss: 2.8361e-05 - accuracy: 1.0000 - val_loss: 7.7327e-07 - val_accuracy: 1.0000\n",
      "Epoch 29/100\n",
      "342/342 [==============================] - 27s 80ms/step - loss: 4.8018e-05 - accuracy: 1.0000 - val_loss: 3.4690e-07 - val_accuracy: 1.0000\n",
      "Epoch 30/100\n",
      "342/342 [==============================] - 26s 77ms/step - loss: 1.0821e-05 - accuracy: 1.0000 - val_loss: 1.7166e-07 - val_accuracy: 1.0000\n",
      "Epoch 31/100\n",
      "342/342 [==============================] - 27s 79ms/step - loss: 2.5643e-04 - accuracy: 0.9999 - val_loss: 2.3842e-09 - val_accuracy: 1.0000\n",
      "Epoch 32/100\n",
      "342/342 [==============================] - 26s 75ms/step - loss: 0.0203 - accuracy: 0.9952 - val_loss: 1.1921e-09 - val_accuracy: 1.0000\n",
      "Epoch 33/100\n",
      "342/342 [==============================] - 25s 74ms/step - loss: 0.0017 - accuracy: 0.9998 - val_loss: 2.7815e-09 - val_accuracy: 1.0000\n",
      "Epoch 34/100\n",
      "342/342 [==============================] - 25s 72ms/step - loss: 0.0032 - accuracy: 0.9988 - val_loss: 3.1789e-09 - val_accuracy: 1.0000\n",
      "Epoch 35/100\n",
      "342/342 [==============================] - 25s 72ms/step - loss: 0.0012 - accuracy: 0.9997 - val_loss: 2.3842e-09 - val_accuracy: 1.0000\n",
      "Epoch 36/100\n",
      "342/342 [==============================] - 27s 79ms/step - loss: 1.0557e-05 - accuracy: 1.0000 - val_loss: 1.5895e-09 - val_accuracy: 1.0000\n",
      "Epoch 37/100\n",
      "342/342 [==============================] - 25s 74ms/step - loss: 2.3673e-05 - accuracy: 1.0000 - val_loss: 2.2252e-08 - val_accuracy: 1.0000\n",
      "Epoch 38/100\n",
      "342/342 [==============================] - 26s 75ms/step - loss: 5.8454e-06 - accuracy: 1.0000 - val_loss: 1.0331e-08 - val_accuracy: 1.0000\n",
      "Epoch 39/100\n",
      "342/342 [==============================] - 25s 72ms/step - loss: 3.3810e-06 - accuracy: 1.0000 - val_loss: 1.4305e-08 - val_accuracy: 1.0000\n",
      "Epoch 40/100\n",
      "342/342 [==============================] - 26s 75ms/step - loss: 2.5775e-04 - accuracy: 0.9998 - val_loss: 3.7353e-06 - val_accuracy: 1.0000\n",
      "Epoch 41/100\n",
      "342/342 [==============================] - 25s 73ms/step - loss: 0.0058 - accuracy: 0.9990 - val_loss: 1.1297e-04 - val_accuracy: 1.0000\n",
      "Epoch 42/100\n",
      "342/342 [==============================] - 683s 2s/step - loss: 0.0067 - accuracy: 0.9990 - val_loss: 3.7981e-06 - val_accuracy: 1.0000\n",
      "Epoch 43/100\n",
      "342/342 [==============================] - 21s 61ms/step - loss: 7.3171e-04 - accuracy: 0.9997 - val_loss: 1.6332e-07 - val_accuracy: 1.0000\n",
      "Epoch 44/100\n",
      "342/342 [==============================] - 23s 68ms/step - loss: 0.0151 - accuracy: 0.9967 - val_loss: 0.0000e+00 - val_accuracy: 1.0000\n",
      "Epoch 45/100\n",
      "342/342 [==============================] - 23s 68ms/step - loss: 5.1761e-06 - accuracy: 1.0000 - val_loss: 0.0000e+00 - val_accuracy: 1.0000\n",
      "Epoch 46/100\n",
      "342/342 [==============================] - 24s 70ms/step - loss: 1.1906e-06 - accuracy: 1.0000 - val_loss: 0.0000e+00 - val_accuracy: 1.0000\n",
      "Epoch 47/100\n",
      "342/342 [==============================] - 23s 68ms/step - loss: 8.6719e-04 - accuracy: 0.9995 - val_loss: 0.0000e+00 - val_accuracy: 1.0000\n",
      "Epoch 48/100\n",
      "342/342 [==============================] - 24s 70ms/step - loss: 5.7623e-04 - accuracy: 0.9997 - val_loss: 0.0000e+00 - val_accuracy: 1.0000\n",
      "Epoch 49/100\n",
      "342/342 [==============================] - 23s 68ms/step - loss: 1.1371e-06 - accuracy: 1.0000 - val_loss: 0.0000e+00 - val_accuracy: 1.0000\n",
      "Epoch 50/100\n",
      "342/342 [==============================] - 23s 68ms/step - loss: 2.3907e-05 - accuracy: 1.0000 - val_loss: 0.0000e+00 - val_accuracy: 1.0000\n",
      "Epoch 51/100\n",
      "342/342 [==============================] - 339s 994ms/step - loss: 6.1437e-04 - accuracy: 0.9997 - val_loss: 0.0000e+00 - val_accuracy: 1.0000\n",
      "Epoch 52/100\n",
      "342/342 [==============================] - 21s 60ms/step - loss: 0.0568 - accuracy: 0.9958 - val_loss: 0.0000e+00 - val_accuracy: 1.0000\n",
      "Epoch 53/100\n",
      "342/342 [==============================] - 22s 64ms/step - loss: 0.0023 - accuracy: 0.9995 - val_loss: 0.0000e+00 - val_accuracy: 1.0000\n",
      "Epoch 54/100\n",
      "342/342 [==============================] - 22s 63ms/step - loss: 7.5969e-05 - accuracy: 1.0000 - val_loss: 0.0000e+00 - val_accuracy: 1.0000\n"
     ]
    },
    {
     "name": "stdout",
     "output_type": "stream",
     "text": [
      "Epoch 55/100\n",
      "342/342 [==============================] - 22s 65ms/step - loss: 4.9910e-04 - accuracy: 0.9998 - val_loss: 0.0000e+00 - val_accuracy: 1.0000\n",
      "Epoch 56/100\n",
      "342/342 [==============================] - 23s 68ms/step - loss: 0.0056 - accuracy: 0.9984 - val_loss: 0.0000e+00 - val_accuracy: 1.0000\n",
      "Epoch 57/100\n",
      "342/342 [==============================] - 23s 67ms/step - loss: 1.2587e-04 - accuracy: 0.9999 - val_loss: 5.1260e-08 - val_accuracy: 1.0000\n",
      "Epoch 58/100\n",
      "342/342 [==============================] - 24s 69ms/step - loss: 8.9951e-04 - accuracy: 0.9997 - val_loss: 1.7492e-04 - val_accuracy: 1.0000\n",
      "Epoch 59/100\n",
      "342/342 [==============================] - 25s 73ms/step - loss: 0.0015 - accuracy: 0.9998 - val_loss: 0.0000e+00 - val_accuracy: 1.0000\n",
      "Epoch 60/100\n",
      "342/342 [==============================] - 26s 77ms/step - loss: 7.8759e-07 - accuracy: 1.0000 - val_loss: 0.0000e+00 - val_accuracy: 1.0000\n",
      "Epoch 61/100\n",
      "342/342 [==============================] - 28s 81ms/step - loss: 2.9746e-06 - accuracy: 1.0000 - val_loss: 0.0000e+00 - val_accuracy: 1.0000\n",
      "Epoch 62/100\n",
      "342/342 [==============================] - 27s 77ms/step - loss: 3.4125e-04 - accuracy: 0.9998 - val_loss: 0.0000e+00 - val_accuracy: 1.0000\n",
      "Epoch 63/100\n",
      "342/342 [==============================] - 27s 80ms/step - loss: 4.4953e-06 - accuracy: 1.0000 - val_loss: 0.0000e+00 - val_accuracy: 1.0000\n",
      "Epoch 64/100\n",
      "342/342 [==============================] - 28s 81ms/step - loss: 0.0044 - accuracy: 0.9992 - val_loss: 0.0000e+00 - val_accuracy: 1.0000\n",
      "Epoch 65/100\n",
      "342/342 [==============================] - 28s 82ms/step - loss: 0.0014 - accuracy: 0.9996 - val_loss: 1.0331e-08 - val_accuracy: 1.0000\n",
      "Epoch 66/100\n",
      "342/342 [==============================] - 26s 75ms/step - loss: 0.0032 - accuracy: 0.9995 - val_loss: 0.0000e+00 - val_accuracy: 1.0000\n",
      "Epoch 67/100\n",
      "342/342 [==============================] - 25s 73ms/step - loss: 5.7291e-06 - accuracy: 1.0000 - val_loss: 0.0000e+00 - val_accuracy: 1.0000\n",
      "Epoch 68/100\n",
      "342/342 [==============================] - 26s 76ms/step - loss: 2.9036e-05 - accuracy: 1.0000 - val_loss: 0.0000e+00 - val_accuracy: 1.0000\n",
      "Epoch 69/100\n",
      "342/342 [==============================] - 25s 74ms/step - loss: 0.0063 - accuracy: 0.9990 - val_loss: 0.0000e+00 - val_accuracy: 1.0000\n",
      "Epoch 70/100\n",
      "342/342 [==============================] - 26s 77ms/step - loss: 0.0011 - accuracy: 0.9997 - val_loss: 0.0000e+00 - val_accuracy: 1.0000\n",
      "Epoch 71/100\n",
      "342/342 [==============================] - 25s 74ms/step - loss: 2.0587e-06 - accuracy: 1.0000 - val_loss: 0.0000e+00 - val_accuracy: 1.0000\n",
      "Epoch 72/100\n",
      "342/342 [==============================] - 26s 77ms/step - loss: 0.0106 - accuracy: 0.9979 - val_loss: 0.0000e+00 - val_accuracy: 1.0000\n",
      "Epoch 73/100\n",
      "342/342 [==============================] - 25s 74ms/step - loss: 0.0054 - accuracy: 0.9993 - val_loss: 0.0000e+00 - val_accuracy: 1.0000\n",
      "Epoch 74/100\n",
      "342/342 [==============================] - 26s 76ms/step - loss: 1.3008e-06 - accuracy: 1.0000 - val_loss: 0.0000e+00 - val_accuracy: 1.0000\n",
      "Epoch 75/100\n",
      "342/342 [==============================] - 29s 85ms/step - loss: 1.7050e-07 - accuracy: 1.0000 - val_loss: 0.0000e+00 - val_accuracy: 1.0000\n",
      "Epoch 76/100\n",
      "342/342 [==============================] - 26s 76ms/step - loss: 1.6969e-06 - accuracy: 1.0000 - val_loss: 0.0000e+00 - val_accuracy: 1.0000\n",
      "Epoch 77/100\n",
      "342/342 [==============================] - 26s 77ms/step - loss: 0.0046 - accuracy: 0.9992 - val_loss: 0.0000e+00 - val_accuracy: 1.0000\n",
      "Epoch 78/100\n",
      "342/342 [==============================] - 25s 74ms/step - loss: 6.3265e-07 - accuracy: 1.0000 - val_loss: 0.0000e+00 - val_accuracy: 1.0000\n",
      "Epoch 79/100\n",
      "342/342 [==============================] - 26s 77ms/step - loss: 0.0087 - accuracy: 0.9987 - val_loss: 0.0000e+00 - val_accuracy: 1.0000\n",
      "Epoch 80/100\n",
      "342/342 [==============================] - 25s 74ms/step - loss: 0.0015 - accuracy: 0.9997 - val_loss: 0.0000e+00 - val_accuracy: 1.0000\n",
      "Epoch 81/100\n",
      "342/342 [==============================] - 26s 76ms/step - loss: 6.5307e-08 - accuracy: 1.0000 - val_loss: 0.0000e+00 - val_accuracy: 1.0000\n",
      "Epoch 82/100\n",
      "342/342 [==============================] - 26s 75ms/step - loss: 2.8329e-10 - accuracy: 1.0000 - val_loss: 0.0000e+00 - val_accuracy: 1.0000\n",
      "Epoch 83/100\n",
      "342/342 [==============================] - 25s 74ms/step - loss: 1.3139e-06 - accuracy: 1.0000 - val_loss: 0.0000e+00 - val_accuracy: 1.0000\n",
      "Epoch 84/100\n",
      "342/342 [==============================] - 26s 76ms/step - loss: 1.8087e-09 - accuracy: 1.0000 - val_loss: 0.0000e+00 - val_accuracy: 1.0000\n",
      "Epoch 85/100\n",
      "342/342 [==============================] - 25s 74ms/step - loss: 2.3970e-10 - accuracy: 1.0000 - val_loss: 0.0000e+00 - val_accuracy: 1.0000\n",
      "Epoch 86/100\n",
      "342/342 [==============================] - 26s 76ms/step - loss: 8.4371e-08 - accuracy: 1.0000 - val_loss: 0.0000e+00 - val_accuracy: 1.0000\n",
      "Epoch 87/100\n",
      "342/342 [==============================] - 25s 74ms/step - loss: 2.5035e-08 - accuracy: 1.0000 - val_loss: 0.0000e+00 - val_accuracy: 1.0000\n",
      "Epoch 88/100\n",
      "342/342 [==============================] - 26s 75ms/step - loss: 1.2780e-08 - accuracy: 1.0000 - val_loss: 0.0000e+00 - val_accuracy: 1.0000\n",
      "Epoch 89/100\n",
      "342/342 [==============================] - 26s 75ms/step - loss: 2.5060e-09 - accuracy: 1.0000 - val_loss: 0.0000e+00 - val_accuracy: 1.0000\n",
      "Epoch 90/100\n",
      "342/342 [==============================] - 26s 75ms/step - loss: 1.8928e-07 - accuracy: 1.0000 - val_loss: 0.0000e+00 - val_accuracy: 1.0000\n",
      "Epoch 91/100\n",
      "342/342 [==============================] - 26s 77ms/step - loss: 0.0670 - accuracy: 0.9940 - val_loss: 0.0000e+00 - val_accuracy: 1.0000\n",
      "Epoch 92/100\n",
      "342/342 [==============================] - 26s 75ms/step - loss: 4.6666e-04 - accuracy: 0.9999 - val_loss: 0.0000e+00 - val_accuracy: 1.0000\n",
      "Epoch 93/100\n",
      "342/342 [==============================] - 26s 77ms/step - loss: 2.0227e-05 - accuracy: 1.0000 - val_loss: 0.0000e+00 - val_accuracy: 1.0000\n",
      "Epoch 94/100\n",
      "342/342 [==============================] - 25s 74ms/step - loss: 4.3255e-09 - accuracy: 1.0000 - val_loss: 0.0000e+00 - val_accuracy: 1.0000\n",
      "Epoch 95/100\n",
      "342/342 [==============================] - 26s 76ms/step - loss: 1.9807e-07 - accuracy: 1.0000 - val_loss: 0.0000e+00 - val_accuracy: 1.0000\n",
      "Epoch 96/100\n",
      "342/342 [==============================] - 26s 75ms/step - loss: 4.0314e-10 - accuracy: 1.0000 - val_loss: 0.0000e+00 - val_accuracy: 1.0000\n",
      "Epoch 97/100\n",
      "342/342 [==============================] - 26s 76ms/step - loss: 0.0013 - accuracy: 0.9997 - val_loss: 0.0000e+00 - val_accuracy: 1.0000\n",
      "Epoch 98/100\n",
      "342/342 [==============================] - 27s 78ms/step - loss: 0.0034 - accuracy: 0.9996 - val_loss: 0.0000e+00 - val_accuracy: 1.0000\n",
      "Epoch 99/100\n",
      "342/342 [==============================] - 25s 74ms/step - loss: 0.0023 - accuracy: 0.9998 - val_loss: 0.0000e+00 - val_accuracy: 1.0000\n",
      "Epoch 100/100\n",
      "342/342 [==============================] - 26s 77ms/step - loss: 0.0035 - accuracy: 0.9994 - val_loss: 0.0000e+00 - val_accuracy: 1.0000\n"
     ]
    },
    {
     "data": {
      "text/plain": [
       "<tensorflow.python.keras.callbacks.History at 0x2722216cd00>"
      ]
     },
     "execution_count": 7,
     "metadata": {},
     "output_type": "execute_result"
    }
   ],
   "source": [
    "model.fit_generator(x_train,steps_per_epoch = 342 , epochs = 100 , validation_data = x_test,validation_steps = 10)"
   ]
  },
  {
   "cell_type": "code",
   "execution_count": 8,
   "id": "f3820323",
   "metadata": {},
   "outputs": [
    {
     "name": "stdout",
     "output_type": "stream",
     "text": [
      "Model: \"sequential\"\n",
      "_________________________________________________________________\n",
      "Layer (type)                 Output Shape              Param #   \n",
      "=================================================================\n",
      "conv2d (Conv2D)              (None, 62, 62, 32)        896       \n",
      "_________________________________________________________________\n",
      "max_pooling2d (MaxPooling2D) (None, 31, 31, 32)        0         \n",
      "_________________________________________________________________\n",
      "flatten (Flatten)            (None, 30752)             0         \n",
      "_________________________________________________________________\n",
      "dense (Dense)                (None, 128)               3936384   \n",
      "_________________________________________________________________\n",
      "dense_1 (Dense)              (None, 3)                 387       \n",
      "=================================================================\n",
      "Total params: 3,937,667\n",
      "Trainable params: 3,937,667\n",
      "Non-trainable params: 0\n",
      "_________________________________________________________________\n"
     ]
    }
   ],
   "source": [
    "model.summary()"
   ]
  },
  {
   "cell_type": "code",
   "execution_count": 9,
   "id": "749e4738",
   "metadata": {},
   "outputs": [
    {
     "data": {
      "text/plain": [
       "PIL.Image.Image"
      ]
     },
     "execution_count": 9,
     "metadata": {},
     "output_type": "execute_result"
    }
   ],
   "source": [
    "model.save(\"shape.h5\")\n",
    "from tensorflow.keras.models import load_model\n",
    "from tensorflow.keras.preprocessing import image\n",
    "model = load_model(\"shape.h5\")\n",
    "img1 = image.load_img(r\"D:\\Dataset\\test\\circle\\0.png\", target_size = (64,64))\n",
    "type(img1)"
   ]
  },
  {
   "cell_type": "code",
   "execution_count": 10,
   "id": "a1094a4b",
   "metadata": {},
   "outputs": [
    {
     "data": {
      "text/plain": [
       "(64, 64, 3)"
      ]
     },
     "execution_count": 10,
     "metadata": {},
     "output_type": "execute_result"
    }
   ],
   "source": [
    "x = image.img_to_array(img1)\n",
    "x.shape"
   ]
  },
  {
   "cell_type": "code",
   "execution_count": 11,
   "id": "e8348870",
   "metadata": {},
   "outputs": [
    {
     "data": {
      "text/plain": [
       "(1, 64, 64, 3)"
      ]
     },
     "execution_count": 11,
     "metadata": {},
     "output_type": "execute_result"
    }
   ],
   "source": [
    "x = np.expand_dims(x, axis = 0)\n",
    "x.shape"
   ]
  },
  {
   "cell_type": "code",
   "execution_count": 12,
   "id": "681b1c8d",
   "metadata": {},
   "outputs": [
    {
     "data": {
      "text/plain": [
       "0"
      ]
     },
     "execution_count": 12,
     "metadata": {},
     "output_type": "execute_result"
    }
   ],
   "source": [
    "xpred = np.argmax(model.predict(x))\n",
    "xpred"
   ]
  },
  {
   "cell_type": "code",
   "execution_count": 13,
   "id": "54ebc849",
   "metadata": {},
   "outputs": [
    {
     "data": {
      "text/plain": [
       "(64, 64, 3)"
      ]
     },
     "execution_count": 13,
     "metadata": {},
     "output_type": "execute_result"
    }
   ],
   "source": [
    "img2 = image.load_img(r\"D:\\Dataset\\test\\square\\0.png\", target_size  = (64,64))\n",
    "y = image.img_to_array(img2)\n",
    "y.shape"
   ]
  },
  {
   "cell_type": "code",
   "execution_count": 14,
   "id": "32c80c94",
   "metadata": {},
   "outputs": [
    {
     "data": {
      "text/plain": [
       "(1, 64, 64, 3)"
      ]
     },
     "execution_count": 14,
     "metadata": {},
     "output_type": "execute_result"
    }
   ],
   "source": [
    "y = np.expand_dims(y, axis = 0)\n",
    "y.shape"
   ]
  },
  {
   "cell_type": "code",
   "execution_count": 15,
   "id": "779a06f9",
   "metadata": {},
   "outputs": [
    {
     "data": {
      "text/plain": [
       "1"
      ]
     },
     "execution_count": 15,
     "metadata": {},
     "output_type": "execute_result"
    }
   ],
   "source": [
    "ypred = np.argmax(model.predict(y))\n",
    "ypred"
   ]
  },
  {
   "cell_type": "code",
   "execution_count": 16,
   "id": "0674b033",
   "metadata": {},
   "outputs": [
    {
     "data": {
      "text/plain": [
       "'circle'"
      ]
     },
     "execution_count": 16,
     "metadata": {},
     "output_type": "execute_result"
    }
   ],
   "source": [
    "index = ['circle', 'square', 'triangle']\n",
    "prediction = index[xpred]\n",
    "prediction"
   ]
  },
  {
   "cell_type": "code",
   "execution_count": 17,
   "id": "273a2898",
   "metadata": {},
   "outputs": [
    {
     "data": {
      "text/plain": [
       "'square'"
      ]
     },
     "execution_count": 17,
     "metadata": {},
     "output_type": "execute_result"
    }
   ],
   "source": [
    "prediction = index[ypred]\n",
    "prediction"
   ]
  },
  {
   "cell_type": "code",
   "execution_count": null,
   "id": "3ba6200b",
   "metadata": {},
   "outputs": [],
   "source": [
    "                                                                                                                                                                                                                                                                                                "
   ]
  },
  {
   "cell_type": "code",
   "execution_count": null,
   "id": "e08d822c",
   "metadata": {},
   "outputs": [],
   "source": []
  },
  {
   "cell_type": "code",
   "execution_count": null,
   "id": "df7804e8",
   "metadata": {},
   "outputs": [],
   "source": []
  },
  {
   "cell_type": "code",
   "execution_count": null,
   "id": "499d0c19",
   "metadata": {},
   "outputs": [],
   "source": []
  }
 ],
 "metadata": {
  "kernelspec": {
   "display_name": "Python 3 (ipykernel)",
   "language": "python",
   "name": "python3"
  },
  "language_info": {
   "codemirror_mode": {
    "name": "ipython",
    "version": 3
   },
   "file_extension": ".py",
   "mimetype": "text/x-python",
   "name": "python",
   "nbconvert_exporter": "python",
   "pygments_lexer": "ipython3",
   "version": "3.9.12"
  }
 },
 "nbformat": 4,
 "nbformat_minor": 5
}
